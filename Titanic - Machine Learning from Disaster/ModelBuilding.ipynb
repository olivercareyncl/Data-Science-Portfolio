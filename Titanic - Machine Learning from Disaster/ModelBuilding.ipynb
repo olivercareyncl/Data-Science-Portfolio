{
 "cells": [
  {
   "cell_type": "markdown",
   "id": "c2a8c2fe-443f-4b23-8753-42e059e91db0",
   "metadata": {},
   "source": [
    "# Titanic - Machine Learning from Disaster\n",
    "\n",
    "## 3. Model Building\n",
    "\n",
    "In this notebook, we will:\n",
    "1. Load the processed data.\n",
    "2. Split the data into training and validation sets.\n",
    "3. Build several machine learning models to predict survival.\n",
    "4. Evaluate the models based on performance metrics like accuracy."
   ]
  },
  {
   "cell_type": "markdown",
   "id": "268bd50e-857d-483d-a45d-19a11f1886f7",
   "metadata": {},
   "source": [
    "### 3.1. Load the Processed Data"
   ]
  },
  {
   "cell_type": "code",
   "execution_count": 38,
   "id": "ea487da0-6091-4ae2-bbd4-e6f99bfd34ab",
   "metadata": {},
   "outputs": [
    {
     "data": {
      "text/html": [
       "<div>\n",
       "<style scoped>\n",
       "    .dataframe tbody tr th:only-of-type {\n",
       "        vertical-align: middle;\n",
       "    }\n",
       "\n",
       "    .dataframe tbody tr th {\n",
       "        vertical-align: top;\n",
       "    }\n",
       "\n",
       "    .dataframe thead th {\n",
       "        text-align: right;\n",
       "    }\n",
       "</style>\n",
       "<table border=\"1\" class=\"dataframe\">\n",
       "  <thead>\n",
       "    <tr style=\"text-align: right;\">\n",
       "      <th></th>\n",
       "      <th>PassengerId</th>\n",
       "      <th>Survived</th>\n",
       "      <th>Pclass</th>\n",
       "      <th>Age</th>\n",
       "      <th>SibSp</th>\n",
       "      <th>Parch</th>\n",
       "      <th>Fare</th>\n",
       "      <th>HasCabin</th>\n",
       "      <th>FamilySize</th>\n",
       "      <th>FamilySurvival</th>\n",
       "      <th>FarePerPerson</th>\n",
       "      <th>Age_Pclass</th>\n",
       "      <th>IsHighFare</th>\n",
       "      <th>Sex_male</th>\n",
       "      <th>Embarked_Q</th>\n",
       "      <th>Embarked_S</th>\n",
       "      <th>AgeGroup_Teen</th>\n",
       "      <th>AgeGroup_Young Adult</th>\n",
       "      <th>AgeGroup_Middle Age</th>\n",
       "      <th>AgeGroup_Senior</th>\n",
       "    </tr>\n",
       "  </thead>\n",
       "  <tbody>\n",
       "    <tr>\n",
       "      <th>0</th>\n",
       "      <td>1</td>\n",
       "      <td>0</td>\n",
       "      <td>3</td>\n",
       "      <td>22.0</td>\n",
       "      <td>1</td>\n",
       "      <td>0</td>\n",
       "      <td>7.2500</td>\n",
       "      <td>0</td>\n",
       "      <td>2</td>\n",
       "      <td>1</td>\n",
       "      <td>3.62500</td>\n",
       "      <td>66.0</td>\n",
       "      <td>0</td>\n",
       "      <td>True</td>\n",
       "      <td>False</td>\n",
       "      <td>True</td>\n",
       "      <td>False</td>\n",
       "      <td>True</td>\n",
       "      <td>False</td>\n",
       "      <td>False</td>\n",
       "    </tr>\n",
       "    <tr>\n",
       "      <th>1</th>\n",
       "      <td>2</td>\n",
       "      <td>1</td>\n",
       "      <td>1</td>\n",
       "      <td>38.0</td>\n",
       "      <td>1</td>\n",
       "      <td>0</td>\n",
       "      <td>71.2833</td>\n",
       "      <td>1</td>\n",
       "      <td>2</td>\n",
       "      <td>1</td>\n",
       "      <td>35.64165</td>\n",
       "      <td>38.0</td>\n",
       "      <td>1</td>\n",
       "      <td>False</td>\n",
       "      <td>False</td>\n",
       "      <td>False</td>\n",
       "      <td>False</td>\n",
       "      <td>False</td>\n",
       "      <td>True</td>\n",
       "      <td>False</td>\n",
       "    </tr>\n",
       "    <tr>\n",
       "      <th>2</th>\n",
       "      <td>3</td>\n",
       "      <td>1</td>\n",
       "      <td>3</td>\n",
       "      <td>26.0</td>\n",
       "      <td>0</td>\n",
       "      <td>0</td>\n",
       "      <td>7.9250</td>\n",
       "      <td>0</td>\n",
       "      <td>1</td>\n",
       "      <td>0</td>\n",
       "      <td>7.92500</td>\n",
       "      <td>78.0</td>\n",
       "      <td>0</td>\n",
       "      <td>False</td>\n",
       "      <td>False</td>\n",
       "      <td>True</td>\n",
       "      <td>False</td>\n",
       "      <td>True</td>\n",
       "      <td>False</td>\n",
       "      <td>False</td>\n",
       "    </tr>\n",
       "    <tr>\n",
       "      <th>3</th>\n",
       "      <td>4</td>\n",
       "      <td>1</td>\n",
       "      <td>1</td>\n",
       "      <td>35.0</td>\n",
       "      <td>1</td>\n",
       "      <td>0</td>\n",
       "      <td>53.1000</td>\n",
       "      <td>1</td>\n",
       "      <td>2</td>\n",
       "      <td>1</td>\n",
       "      <td>26.55000</td>\n",
       "      <td>35.0</td>\n",
       "      <td>1</td>\n",
       "      <td>False</td>\n",
       "      <td>False</td>\n",
       "      <td>True</td>\n",
       "      <td>False</td>\n",
       "      <td>True</td>\n",
       "      <td>False</td>\n",
       "      <td>False</td>\n",
       "    </tr>\n",
       "    <tr>\n",
       "      <th>4</th>\n",
       "      <td>5</td>\n",
       "      <td>0</td>\n",
       "      <td>3</td>\n",
       "      <td>35.0</td>\n",
       "      <td>0</td>\n",
       "      <td>0</td>\n",
       "      <td>8.0500</td>\n",
       "      <td>0</td>\n",
       "      <td>1</td>\n",
       "      <td>0</td>\n",
       "      <td>8.05000</td>\n",
       "      <td>105.0</td>\n",
       "      <td>0</td>\n",
       "      <td>True</td>\n",
       "      <td>False</td>\n",
       "      <td>True</td>\n",
       "      <td>False</td>\n",
       "      <td>True</td>\n",
       "      <td>False</td>\n",
       "      <td>False</td>\n",
       "    </tr>\n",
       "  </tbody>\n",
       "</table>\n",
       "</div>"
      ],
      "text/plain": [
       "   PassengerId  Survived  Pclass   Age  SibSp  Parch     Fare  HasCabin  \\\n",
       "0            1         0       3  22.0      1      0   7.2500         0   \n",
       "1            2         1       1  38.0      1      0  71.2833         1   \n",
       "2            3         1       3  26.0      0      0   7.9250         0   \n",
       "3            4         1       1  35.0      1      0  53.1000         1   \n",
       "4            5         0       3  35.0      0      0   8.0500         0   \n",
       "\n",
       "   FamilySize  FamilySurvival  FarePerPerson  Age_Pclass  IsHighFare  \\\n",
       "0           2               1        3.62500        66.0           0   \n",
       "1           2               1       35.64165        38.0           1   \n",
       "2           1               0        7.92500        78.0           0   \n",
       "3           2               1       26.55000        35.0           1   \n",
       "4           1               0        8.05000       105.0           0   \n",
       "\n",
       "   Sex_male  Embarked_Q  Embarked_S  AgeGroup_Teen  AgeGroup_Young Adult  \\\n",
       "0      True       False        True          False                  True   \n",
       "1     False       False       False          False                 False   \n",
       "2     False       False        True          False                  True   \n",
       "3     False       False        True          False                  True   \n",
       "4      True       False        True          False                  True   \n",
       "\n",
       "   AgeGroup_Middle Age  AgeGroup_Senior  \n",
       "0                False            False  \n",
       "1                 True            False  \n",
       "2                False            False  \n",
       "3                False            False  \n",
       "4                False            False  "
      ]
     },
     "execution_count": 38,
     "metadata": {},
     "output_type": "execute_result"
    }
   ],
   "source": [
    "import pandas as pd\n",
    "from sklearn.model_selection import train_test_split\n",
    "\n",
    "# Load the processed dataset\n",
    "train_data = pd.read_csv('train_processed.csv')\n",
    "\n",
    "# Display the first few rows of the processed train data\n",
    "train_data.head()\n"
   ]
  },
  {
   "cell_type": "markdown",
   "id": "6151fd7a-dec1-414b-a4f1-8262e628d791",
   "metadata": {},
   "source": [
    "*Comment:* The processed dataset includes essential features such as `Pclass`, `Age`, `Fare`, and engineered features like `FamilySize`, `IsAlone`, and various title-related features.\n"
   ]
  },
  {
   "cell_type": "markdown",
   "id": "3d0ec007-e81f-437b-8489-87b3e297c3d4",
   "metadata": {},
   "source": [
    "### 3.2. Splitting the Data into Training and Validation Sets"
   ]
  },
  {
   "cell_type": "code",
   "execution_count": 42,
   "id": "3ab940b3-8d1b-4d8a-baa4-0e4583c7948d",
   "metadata": {},
   "outputs": [
    {
     "data": {
      "text/plain": [
       "((712, 19), (179, 19), (712,), (179,))"
      ]
     },
     "execution_count": 42,
     "metadata": {},
     "output_type": "execute_result"
    }
   ],
   "source": [
    "# Define the features (X) and target variable (y)\n",
    "X = train_data.drop('Survived', axis=1)  # Features\n",
    "y = train_data['Survived']               # Target\n",
    "\n",
    "# Split the data into training (80%) and validation (20%) sets\n",
    "X_train, X_val, y_train, y_val = train_test_split(X, y, test_size=0.2, random_state=42)\n",
    "\n",
    "# Confirm the shapes of the split data\n",
    "X_train.shape, X_val.shape, y_train.shape, y_val.shape"
   ]
  },
  {
   "cell_type": "markdown",
   "id": "6dc0e8cd-be90-4288-891a-cfed36477359",
   "metadata": {},
   "source": [
    "### 3.3. Building Machine Learning Models"
   ]
  },
  {
   "cell_type": "markdown",
   "id": "dec6f648-555c-4ce5-8f29-dfaa0bd3959a",
   "metadata": {},
   "source": [
    "#### 3.3.1. Logistic Regression"
   ]
  },
  {
   "cell_type": "code",
   "execution_count": 46,
   "id": "540c73ef-49aa-4cb2-9ce9-41b5576b47f7",
   "metadata": {},
   "outputs": [
    {
     "name": "stdout",
     "output_type": "stream",
     "text": [
      "Logistic Regression Accuracy: 0.8101\n",
      "Logistic Regression Accuracy: 0.8101\n",
      "Logistic Regression Classification Report:\n",
      "              precision    recall  f1-score   support\n",
      "\n",
      "           0       0.83      0.86      0.84       105\n",
      "           1       0.79      0.74      0.76        74\n",
      "\n",
      "    accuracy                           0.81       179\n",
      "   macro avg       0.81      0.80      0.80       179\n",
      "weighted avg       0.81      0.81      0.81       179\n",
      "\n",
      "Logistic Regression Confusion Matrix:\n",
      "[[90 15]\n",
      " [19 55]]\n"
     ]
    }
   ],
   "source": [
    "from sklearn.preprocessing import StandardScaler\n",
    "from sklearn.linear_model import LogisticRegression\n",
    "from sklearn.metrics import accuracy_score, classification_report, confusion_matrix\n",
    "\n",
    "# Initialise the scaler\n",
    "scaler = StandardScaler()\n",
    "\n",
    "# Fit the scaler on the training data and transform both training and validation sets\n",
    "X_train_scaled = scaler.fit_transform(X_train)\n",
    "X_val_scaled = scaler.transform(X_val)\n",
    "\n",
    "# Now, train the Logistic Regression model on the scaled data\n",
    "logreg = LogisticRegression(max_iter=1000)\n",
    "\n",
    "# Train the model\n",
    "logreg.fit(X_train_scaled, y_train)\n",
    "\n",
    "# Predict on the validation set\n",
    "y_pred_logreg = logreg.predict(X_val_scaled)\n",
    "\n",
    "# Calculate the accuracy\n",
    "logreg_accuracy = accuracy_score(y_val, y_pred_logreg)\n",
    "print(f\"Logistic Regression Accuracy: {logreg_accuracy:.4f}\")\n",
    "\n",
    "# Evaluate the model\n",
    "def evaluate_model(model, X_val, y_val, model_name):\n",
    "    \"\"\"Evaluates the model and prints the classification report and confusion matrix.\"\"\"\n",
    "    y_pred = model.predict(X_val)\n",
    "    accuracy = accuracy_score(y_val, y_pred)\n",
    "    print(f\"{model_name} Accuracy: {accuracy:.4f}\")\n",
    "    print(f\"{model_name} Classification Report:\")\n",
    "    print(classification_report(y_val, y_pred))\n",
    "    print(f\"{model_name} Confusion Matrix:\")\n",
    "    print(confusion_matrix(y_val, y_pred))\n",
    "\n",
    "# Evaluate the model\n",
    "evaluate_model(logreg, X_val_scaled, y_val, \"Logistic Regression\")\n"
   ]
  },
  {
   "cell_type": "markdown",
   "id": "f362b989-09a2-4cb2-9c09-03fe11683c0f",
   "metadata": {},
   "source": [
    "**Random Forest Classifier**"
   ]
  },
  {
   "cell_type": "code",
   "execution_count": 49,
   "id": "75766b68-ff83-4e39-98e2-4c23de390f2a",
   "metadata": {},
   "outputs": [
    {
     "name": "stdout",
     "output_type": "stream",
     "text": [
      "Random Forest Accuracy: 0.8324\n",
      "Random Forest Accuracy: 0.8324\n",
      "Random Forest Classification Report:\n",
      "              precision    recall  f1-score   support\n",
      "\n",
      "           0       0.84      0.88      0.86       105\n",
      "           1       0.81      0.77      0.79        74\n",
      "\n",
      "    accuracy                           0.83       179\n",
      "   macro avg       0.83      0.82      0.83       179\n",
      "weighted avg       0.83      0.83      0.83       179\n",
      "\n",
      "Random Forest Confusion Matrix:\n",
      "[[92 13]\n",
      " [17 57]]\n"
     ]
    }
   ],
   "source": [
    "from sklearn.ensemble import RandomForestClassifier\n",
    "from sklearn.metrics import accuracy_score, classification_report, confusion_matrix\n",
    "\n",
    "# Initialise Random Forest model\n",
    "rf = RandomForestClassifier(n_estimators=100, random_state=42)\n",
    "\n",
    "# Train the model\n",
    "rf.fit(X_train, y_train)\n",
    "\n",
    "# Predict on the validation set\n",
    "y_pred_rf = rf.predict(X_val)\n",
    "\n",
    "# Calculate the accuracy\n",
    "rf_accuracy = accuracy_score(y_val, y_pred_rf)\n",
    "print(f\"Random Forest Accuracy: {rf_accuracy:.4f}\")\n",
    "\n",
    "# Evaluate Random Forest\n",
    "evaluate_model(rf, X_val, y_val, \"Random Forest\")"
   ]
  },
  {
   "cell_type": "markdown",
   "id": "a9373d35-4a39-4657-8f3a-05bb04e39f15",
   "metadata": {},
   "source": [
    "**Gradient Boosting Classifier**"
   ]
  },
  {
   "cell_type": "code",
   "execution_count": 52,
   "id": "dac00bba-bc2d-478d-93b1-c204bddfeb9f",
   "metadata": {},
   "outputs": [
    {
     "name": "stdout",
     "output_type": "stream",
     "text": [
      "Gradient Boosting Accuracy: 0.8324\n",
      "Gradient Boosting Accuracy: 0.8324\n",
      "Gradient Boosting Classification Report:\n",
      "              precision    recall  f1-score   support\n",
      "\n",
      "           0       0.83      0.90      0.86       105\n",
      "           1       0.84      0.73      0.78        74\n",
      "\n",
      "    accuracy                           0.83       179\n",
      "   macro avg       0.83      0.82      0.82       179\n",
      "weighted avg       0.83      0.83      0.83       179\n",
      "\n",
      "Gradient Boosting Confusion Matrix:\n",
      "[[95 10]\n",
      " [20 54]]\n"
     ]
    }
   ],
   "source": [
    "from sklearn.ensemble import GradientBoostingClassifier\n",
    "\n",
    "# Initialise Gradient Boosting model\n",
    "gb = GradientBoostingClassifier(random_state=42)\n",
    "\n",
    "# Train the model\n",
    "gb.fit(X_train, y_train)\n",
    "\n",
    "# Predict on the validation set\n",
    "y_pred_gb = gb.predict(X_val)\n",
    "\n",
    "# Calculate the accuracy\n",
    "gb_accuracy = accuracy_score(y_val, y_pred_gb)\n",
    "print(f\"Gradient Boosting Accuracy: {gb_accuracy:.4f}\")\n",
    "\n",
    "# Evaluate Gradient Boosting\n",
    "evaluate_model(gb, X_val, y_val, \"Gradient Boosting\")"
   ]
  },
  {
   "cell_type": "markdown",
   "id": "bfa1a25d-8de9-44c4-9084-41a71819e2b8",
   "metadata": {},
   "source": [
    "### 3.4. Evaluate the Models"
   ]
  },
  {
   "cell_type": "markdown",
   "id": "55f67a94-f487-4d9d-8a5b-7b16832151bb",
   "metadata": {},
   "source": [
    "#### Summary of Key Findings:\n",
    "- **Gradient Boosting** is the best performing model overall, with the highest accuracy and a strong balance between precision and recall.\n",
    "- **Logistic Regression** is effective but misses more survivors than Gradient Boosting.\n",
    "- **Random Forest** has similar precision to Logistic Regression but lower accuracy, suggesting that it may be struggling to predict survivors accurately.\n",
    "\n",
    "Gradient Boosting is selected as the best model for submission, but further improvements can focus on refining predictions for survivors and exploring advanced techniques."
   ]
  }
 ],
 "metadata": {
  "kernelspec": {
   "display_name": "Python 3 (ipykernel)",
   "language": "python",
   "name": "python3"
  },
  "language_info": {
   "codemirror_mode": {
    "name": "ipython",
    "version": 3
   },
   "file_extension": ".py",
   "mimetype": "text/x-python",
   "name": "python",
   "nbconvert_exporter": "python",
   "pygments_lexer": "ipython3",
   "version": "3.12.4"
  }
 },
 "nbformat": 4,
 "nbformat_minor": 5
}
