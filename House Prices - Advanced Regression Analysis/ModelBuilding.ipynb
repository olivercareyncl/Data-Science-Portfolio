{
 "cells": [
  {
   "cell_type": "markdown",
   "id": "0efb74ba",
   "metadata": {},
   "source": [
    "\n",
    "# Model Building for House Prices Prediction\n",
    "\n",
    "## 1. Introduction\n",
    "In this notebook, we will build and evaluate different models to predict house prices using the cleaned and engineered dataset. We will:\n",
    "1. Load the cleaned dataset from the feature engineering stage.\n",
    "2. Split the dataset into training and testing sets.\n",
    "3. Build and evaluate baseline models (e.g., Linear Regression).\n",
    "4. Train more advanced models (e.g., Random Forest and Gradient Boosting).\n",
    "5. Perform hyperparameter tuning.\n",
    "6. Save the models for future use.\n"
   ]
  },
  {
   "cell_type": "markdown",
   "id": "2950866f",
   "metadata": {},
   "source": [
    "\n",
    "## 2. Loading the Cleaned Dataset\n",
    "We will load the cleaned and engineered dataset that was saved during the feature engineering phase.\n"
   ]
  },
  {
   "cell_type": "code",
   "execution_count": 1,
   "id": "eaba402d",
   "metadata": {},
   "outputs": [
    {
     "name": "stdout",
     "output_type": "stream",
     "text": [
      "Cleaned dataset shape: (1460, 267)\n"
     ]
    },
    {
     "data": {
      "text/html": [
       "<div>\n",
       "<style scoped>\n",
       "    .dataframe tbody tr th:only-of-type {\n",
       "        vertical-align: middle;\n",
       "    }\n",
       "\n",
       "    .dataframe tbody tr th {\n",
       "        vertical-align: top;\n",
       "    }\n",
       "\n",
       "    .dataframe thead th {\n",
       "        text-align: right;\n",
       "    }\n",
       "</style>\n",
       "<table border=\"1\" class=\"dataframe\">\n",
       "  <thead>\n",
       "    <tr style=\"text-align: right;\">\n",
       "      <th></th>\n",
       "      <th>Id</th>\n",
       "      <th>MSSubClass</th>\n",
       "      <th>LotFrontage</th>\n",
       "      <th>LotArea</th>\n",
       "      <th>OverallQual</th>\n",
       "      <th>OverallCond</th>\n",
       "      <th>YearBuilt</th>\n",
       "      <th>YearRemodAdd</th>\n",
       "      <th>MasVnrArea</th>\n",
       "      <th>BsmtFinSF1</th>\n",
       "      <th>...</th>\n",
       "      <th>SaleType_New</th>\n",
       "      <th>SaleType_Oth</th>\n",
       "      <th>SaleType_WD</th>\n",
       "      <th>SaleCondition_AdjLand</th>\n",
       "      <th>SaleCondition_Alloca</th>\n",
       "      <th>SaleCondition_Family</th>\n",
       "      <th>SaleCondition_Normal</th>\n",
       "      <th>SaleCondition_Partial</th>\n",
       "      <th>TotalSF</th>\n",
       "      <th>Age</th>\n",
       "    </tr>\n",
       "  </thead>\n",
       "  <tbody>\n",
       "    <tr>\n",
       "      <th>0</th>\n",
       "      <td>1</td>\n",
       "      <td>60</td>\n",
       "      <td>65.0</td>\n",
       "      <td>-0.207142</td>\n",
       "      <td>7</td>\n",
       "      <td>5</td>\n",
       "      <td>2003</td>\n",
       "      <td>2003</td>\n",
       "      <td>196.0</td>\n",
       "      <td>706</td>\n",
       "      <td>...</td>\n",
       "      <td>False</td>\n",
       "      <td>False</td>\n",
       "      <td>True</td>\n",
       "      <td>False</td>\n",
       "      <td>False</td>\n",
       "      <td>False</td>\n",
       "      <td>True</td>\n",
       "      <td>False</td>\n",
       "      <td>-0.001277</td>\n",
       "      <td>-1.043259</td>\n",
       "    </tr>\n",
       "    <tr>\n",
       "      <th>1</th>\n",
       "      <td>2</td>\n",
       "      <td>20</td>\n",
       "      <td>80.0</td>\n",
       "      <td>-0.091886</td>\n",
       "      <td>6</td>\n",
       "      <td>8</td>\n",
       "      <td>1976</td>\n",
       "      <td>1976</td>\n",
       "      <td>0.0</td>\n",
       "      <td>978</td>\n",
       "      <td>...</td>\n",
       "      <td>False</td>\n",
       "      <td>False</td>\n",
       "      <td>True</td>\n",
       "      <td>False</td>\n",
       "      <td>False</td>\n",
       "      <td>False</td>\n",
       "      <td>True</td>\n",
       "      <td>False</td>\n",
       "      <td>-0.052407</td>\n",
       "      <td>-0.183465</td>\n",
       "    </tr>\n",
       "    <tr>\n",
       "      <th>2</th>\n",
       "      <td>3</td>\n",
       "      <td>60</td>\n",
       "      <td>68.0</td>\n",
       "      <td>0.073480</td>\n",
       "      <td>7</td>\n",
       "      <td>5</td>\n",
       "      <td>2001</td>\n",
       "      <td>2002</td>\n",
       "      <td>162.0</td>\n",
       "      <td>486</td>\n",
       "      <td>...</td>\n",
       "      <td>False</td>\n",
       "      <td>False</td>\n",
       "      <td>True</td>\n",
       "      <td>False</td>\n",
       "      <td>False</td>\n",
       "      <td>False</td>\n",
       "      <td>True</td>\n",
       "      <td>False</td>\n",
       "      <td>0.169157</td>\n",
       "      <td>-0.977121</td>\n",
       "    </tr>\n",
       "    <tr>\n",
       "      <th>3</th>\n",
       "      <td>4</td>\n",
       "      <td>70</td>\n",
       "      <td>60.0</td>\n",
       "      <td>-0.096897</td>\n",
       "      <td>7</td>\n",
       "      <td>5</td>\n",
       "      <td>1915</td>\n",
       "      <td>1970</td>\n",
       "      <td>0.0</td>\n",
       "      <td>216</td>\n",
       "      <td>...</td>\n",
       "      <td>False</td>\n",
       "      <td>False</td>\n",
       "      <td>True</td>\n",
       "      <td>False</td>\n",
       "      <td>False</td>\n",
       "      <td>False</td>\n",
       "      <td>False</td>\n",
       "      <td>False</td>\n",
       "      <td>-0.114493</td>\n",
       "      <td>1.800676</td>\n",
       "    </tr>\n",
       "    <tr>\n",
       "      <th>4</th>\n",
       "      <td>5</td>\n",
       "      <td>60</td>\n",
       "      <td>84.0</td>\n",
       "      <td>0.375148</td>\n",
       "      <td>8</td>\n",
       "      <td>5</td>\n",
       "      <td>2000</td>\n",
       "      <td>2000</td>\n",
       "      <td>350.0</td>\n",
       "      <td>655</td>\n",
       "      <td>...</td>\n",
       "      <td>False</td>\n",
       "      <td>False</td>\n",
       "      <td>True</td>\n",
       "      <td>False</td>\n",
       "      <td>False</td>\n",
       "      <td>False</td>\n",
       "      <td>True</td>\n",
       "      <td>False</td>\n",
       "      <td>0.944631</td>\n",
       "      <td>-0.944052</td>\n",
       "    </tr>\n",
       "  </tbody>\n",
       "</table>\n",
       "<p>5 rows × 267 columns</p>\n",
       "</div>"
      ],
      "text/plain": [
       "   Id  MSSubClass  LotFrontage   LotArea  OverallQual  OverallCond  YearBuilt  \\\n",
       "0   1          60         65.0 -0.207142            7            5       2003   \n",
       "1   2          20         80.0 -0.091886            6            8       1976   \n",
       "2   3          60         68.0  0.073480            7            5       2001   \n",
       "3   4          70         60.0 -0.096897            7            5       1915   \n",
       "4   5          60         84.0  0.375148            8            5       2000   \n",
       "\n",
       "   YearRemodAdd  MasVnrArea  BsmtFinSF1  ...  SaleType_New  SaleType_Oth  \\\n",
       "0          2003       196.0         706  ...         False         False   \n",
       "1          1976         0.0         978  ...         False         False   \n",
       "2          2002       162.0         486  ...         False         False   \n",
       "3          1970         0.0         216  ...         False         False   \n",
       "4          2000       350.0         655  ...         False         False   \n",
       "\n",
       "   SaleType_WD  SaleCondition_AdjLand  SaleCondition_Alloca  \\\n",
       "0         True                  False                 False   \n",
       "1         True                  False                 False   \n",
       "2         True                  False                 False   \n",
       "3         True                  False                 False   \n",
       "4         True                  False                 False   \n",
       "\n",
       "   SaleCondition_Family  SaleCondition_Normal  SaleCondition_Partial  \\\n",
       "0                 False                  True                  False   \n",
       "1                 False                  True                  False   \n",
       "2                 False                  True                  False   \n",
       "3                 False                 False                  False   \n",
       "4                 False                  True                  False   \n",
       "\n",
       "    TotalSF       Age  \n",
       "0 -0.001277 -1.043259  \n",
       "1 -0.052407 -0.183465  \n",
       "2  0.169157 -0.977121  \n",
       "3 -0.114493  1.800676  \n",
       "4  0.944631 -0.944052  \n",
       "\n",
       "[5 rows x 267 columns]"
      ]
     },
     "execution_count": 1,
     "metadata": {},
     "output_type": "execute_result"
    }
   ],
   "source": [
    "\n",
    "# Load the cleaned and engineered dataset\n",
    "import pandas as pd\n",
    "\n",
    "train_cleaned = pd.read_csv('cleaned_train_data.csv')\n",
    "\n",
    "# Display the shape and preview the dataset\n",
    "print(f\"Cleaned dataset shape: {train_cleaned.shape}\")\n",
    "train_cleaned.head()\n"
   ]
  },
  {
   "cell_type": "markdown",
   "id": "803251a8",
   "metadata": {},
   "source": [
    "\n",
    "## 3. Splitting Data into Train and Test Sets\n",
    "We will split the dataset into training and testing sets. This allows us to evaluate how well our model generalizes to unseen data.\n"
   ]
  },
  {
   "cell_type": "code",
   "execution_count": 2,
   "id": "ab312e20",
   "metadata": {},
   "outputs": [
    {
     "data": {
      "text/plain": [
       "((1168, 266), (292, 266))"
      ]
     },
     "execution_count": 2,
     "metadata": {},
     "output_type": "execute_result"
    }
   ],
   "source": [
    "\n",
    "from sklearn.model_selection import train_test_split\n",
    "\n",
    "# Define the target and features\n",
    "X = train_cleaned.drop('SalePrice', axis=1)\n",
    "y = train_cleaned['SalePrice']\n",
    "\n",
    "# Split the data into training and testing sets (80% training, 20% testing)\n",
    "X_train, X_test, y_train, y_test = train_test_split(X, y, test_size=0.2, random_state=42)\n",
    "\n",
    "# Check the shape of the training and testing sets\n",
    "X_train.shape, X_test.shape\n"
   ]
  },
  {
   "cell_type": "markdown",
   "id": "c5587f51",
   "metadata": {},
   "source": [
    "\n",
    "## 4. Baseline Model: Linear Regression\n",
    "We will start by training a baseline Linear Regression model to get a benchmark for model performance.\n"
   ]
  },
  {
   "cell_type": "code",
   "execution_count": 3,
   "id": "44c74294",
   "metadata": {},
   "outputs": [
    {
     "name": "stdout",
     "output_type": "stream",
     "text": [
      "Baseline Model RMSE (Linear Regression): 82939.55901469445\n"
     ]
    }
   ],
   "source": [
    "\n",
    "from sklearn.linear_model import LinearRegression\n",
    "from sklearn.metrics import mean_squared_error\n",
    "import numpy as np\n",
    "\n",
    "# Train a Linear Regression model\n",
    "lr = LinearRegression()\n",
    "lr.fit(X_train, y_train)\n",
    "\n",
    "# Make predictions on the test set\n",
    "y_pred_lr = lr.predict(X_test)\n",
    "\n",
    "# Calculate RMSE for the baseline model\n",
    "rmse_lr = np.sqrt(mean_squared_error(y_test, y_pred_lr))\n",
    "print(f'Baseline Model RMSE (Linear Regression): {rmse_lr}')\n"
   ]
  },
  {
   "cell_type": "markdown",
   "id": "d3507b0a",
   "metadata": {},
   "source": [
    "\n",
    "## 5. Advanced Models: Random Forest and Gradient Boosting\n",
    "Next, we will train more advanced models, such as Random Forest and Gradient Boosting, to improve performance.\n"
   ]
  },
  {
   "cell_type": "code",
   "execution_count": 4,
   "id": "19f53cc1",
   "metadata": {},
   "outputs": [
    {
     "name": "stdout",
     "output_type": "stream",
     "text": [
      "Random Forest RMSE: 30012.142611043513\n",
      "Gradient Boosting RMSE: 28491.349703843494\n"
     ]
    }
   ],
   "source": [
    "\n",
    "from sklearn.ensemble import RandomForestRegressor, GradientBoostingRegressor\n",
    "\n",
    "# Train a Random Forest model\n",
    "rf = RandomForestRegressor(n_estimators=100, random_state=42)\n",
    "rf.fit(X_train, y_train)\n",
    "\n",
    "# Make predictions and calculate RMSE for Random Forest\n",
    "y_pred_rf = rf.predict(X_test)\n",
    "rmse_rf = np.sqrt(mean_squared_error(y_test, y_pred_rf))\n",
    "print(f'Random Forest RMSE: {rmse_rf}')\n",
    "\n",
    "# Train a Gradient Boosting model\n",
    "gb = GradientBoostingRegressor(n_estimators=100, random_state=42)\n",
    "gb.fit(X_train, y_train)\n",
    "\n",
    "# Make predictions and calculate RMSE for Gradient Boosting\n",
    "y_pred_gb = gb.predict(X_test)\n",
    "rmse_gb = np.sqrt(mean_squared_error(y_test, y_pred_gb))\n",
    "print(f'Gradient Boosting RMSE: {rmse_gb}')\n"
   ]
  },
  {
   "cell_type": "markdown",
   "id": "4f57f444",
   "metadata": {},
   "source": [
    "\n",
    "## 6. Hyperparameter Tuning\n",
    "We will perform hyperparameter tuning for the Gradient Boosting model using GridSearchCV to optimize model performance.\n"
   ]
  },
  {
   "cell_type": "code",
   "execution_count": 5,
   "id": "64b64469",
   "metadata": {},
   "outputs": [
    {
     "name": "stdout",
     "output_type": "stream",
     "text": [
      "Fitting 5 folds for each of 8 candidates, totalling 40 fits\n",
      "Best Gradient Boosting RMSE after tuning: 27895.558275340863\n"
     ]
    }
   ],
   "source": [
    "\n",
    "from sklearn.model_selection import GridSearchCV\n",
    "\n",
    "# Define the parameter grid for Gradient Boosting\n",
    "param_grid = {\n",
    "    'n_estimators': [100, 200],\n",
    "    'learning_rate': [0.01, 0.1],\n",
    "    'max_depth': [3, 5]\n",
    "}\n",
    "\n",
    "# Perform GridSearchCV to find the best hyperparameters\n",
    "grid_search = GridSearchCV(GradientBoostingRegressor(), param_grid, cv=5, scoring='neg_mean_squared_error', verbose=1)\n",
    "grid_search.fit(X_train, y_train)\n",
    "\n",
    "# Get the best parameters and the corresponding RMSE\n",
    "best_gb = grid_search.best_estimator_\n",
    "y_pred_best_gb = best_gb.predict(X_test)\n",
    "rmse_best_gb = np.sqrt(mean_squared_error(y_test, y_pred_best_gb))\n",
    "print(f'Best Gradient Boosting RMSE after tuning: {rmse_best_gb}')\n"
   ]
  },
  {
   "cell_type": "markdown",
   "id": "0957d2ca",
   "metadata": {},
   "source": [
    "\n",
    "## 7. Saving the Trained Models\n",
    "We will save the trained models (Random Forest, Gradient Boosting, and the tuned Gradient Boosting model) to files for future use.\n"
   ]
  },
  {
   "cell_type": "code",
   "execution_count": 6,
   "id": "ef57da5d",
   "metadata": {},
   "outputs": [
    {
     "name": "stdout",
     "output_type": "stream",
     "text": [
      "Models saved as 'random_forest_model.pkl', 'gradient_boosting_model.pkl', and 'tuned_gradient_boosting_model.pkl'.\n"
     ]
    }
   ],
   "source": [
    "\n",
    "import joblib\n",
    "\n",
    "# Save the trained Random Forest and Gradient Boosting models\n",
    "joblib.dump(rf, 'random_forest_model.pkl')\n",
    "joblib.dump(gb, 'gradient_boosting_model.pkl')\n",
    "joblib.dump(best_gb, 'tuned_gradient_boosting_model.pkl')\n",
    "\n",
    "print(\"Models saved as 'random_forest_model.pkl', 'gradient_boosting_model.pkl', and 'tuned_gradient_boosting_model.pkl'.\")\n"
   ]
  },
  {
   "cell_type": "markdown",
   "id": "148a7d3a",
   "metadata": {},
   "source": [
    "\n",
    "## 8. Summary and Next Steps\n",
    "In this notebook, we trained and evaluated several models, including:\n",
    "- Baseline Linear Regression model\n",
    "- Random Forest model\n",
    "- Gradient Boosting model\n",
    "\n",
    "We also performed hyperparameter tuning to optimize the performance of the Gradient Boosting model, and saved all the trained models for future use.\n"
   ]
  },
  {
   "cell_type": "code",
   "execution_count": null,
   "id": "40254766-3460-4fee-99dd-f8e3f966f8e1",
   "metadata": {},
   "outputs": [],
   "source": []
  }
 ],
 "metadata": {
  "kernelspec": {
   "display_name": "Python 3 (ipykernel)",
   "language": "python",
   "name": "python3"
  },
  "language_info": {
   "codemirror_mode": {
    "name": "ipython",
    "version": 3
   },
   "file_extension": ".py",
   "mimetype": "text/x-python",
   "name": "python",
   "nbconvert_exporter": "python",
   "pygments_lexer": "ipython3",
   "version": "3.12.4"
  }
 },
 "nbformat": 4,
 "nbformat_minor": 5
}
